{
 "cells": [
  {
   "cell_type": "code",
   "execution_count": 1,
   "id": "bd5ff400",
   "metadata": {},
   "outputs": [],
   "source": [
    "from LPMD import *\n",
    "import pandas as pd\n",
    "import numpy as np"
   ]
  },
  {
   "cell_type": "code",
   "execution_count": 2,
   "id": "b518791f",
   "metadata": {},
   "outputs": [],
   "source": [
    "def model_lpmd(\n",
    "        datamissing,\n",
    "        datacomplete,\n",
    "        target\n",
    "    ):\n",
    "        imputer = LPMD(datacomplete, \n",
    "                                              iteracoes=1000, \n",
    "                                              epsilon=1e-256)\n",
    "        \n",
    "        model = imputer.fit(datamissing, target)\n",
    "        \n",
    "        return model"
   ]
  },
  {
   "cell_type": "code",
   "execution_count": 3,
   "id": "f00da01a",
   "metadata": {},
   "outputs": [
    {
     "name": "stdout",
     "output_type": "stream",
     "text": [
      "     sepal length (cm)  sepal width (cm)  petal length (cm)  petal width (cm)  \\\n",
      "0                  5.1               3.5                1.4               0.2   \n",
      "1                  4.9               3.0                1.4               0.2   \n",
      "2                  4.7               3.2                1.3               0.2   \n",
      "3                  4.6               3.1                1.5               0.2   \n",
      "4                  5.0               3.6                1.4               0.2   \n",
      "..                 ...               ...                ...               ...   \n",
      "145                6.7               3.0                5.2               2.3   \n",
      "146                6.3               2.5                5.0               1.9   \n",
      "147                6.5               3.0                5.2               2.0   \n",
      "148                6.2               3.4                5.4               2.3   \n",
      "149                5.9               3.0                5.1               1.8   \n",
      "\n",
      "     target  \n",
      "0         0  \n",
      "1         0  \n",
      "2         0  \n",
      "3         0  \n",
      "4         0  \n",
      "..      ...  \n",
      "145       2  \n",
      "146       2  \n",
      "147       2  \n",
      "148       2  \n",
      "149       2  \n",
      "\n",
      "[150 rows x 5 columns]\n"
     ]
    }
   ],
   "source": [
    "from sklearn.datasets import load_iris\n",
    "\n",
    "# Carregar o dataset Iris\n",
    "iris = load_iris()\n",
    "\n",
    "# Converter para um DataFrame do pandas\n",
    "iris_df = pd.DataFrame(data=iris.data, columns=iris.feature_names)\n",
    "\n",
    "# Adicionar a coluna de target\n",
    "iris_df['target'] = iris.target\n",
    "\n",
    "# Exibir o DataFrame\n",
    "print(iris_df)"
   ]
  },
  {
   "cell_type": "code",
   "execution_count": 4,
   "id": "d2b3ccd8",
   "metadata": {},
   "outputs": [
    {
     "name": "stdout",
     "output_type": "stream",
     "text": [
      "   sepal length (cm)  sepal width (cm)  petal length (cm)  petal width (cm)  \\\n",
      "0                5.1               3.5                1.4               0.2   \n",
      "1                4.9               3.0                1.4               0.2   \n",
      "2                4.7               3.2                1.3               0.2   \n",
      "3                4.6               3.1                1.5               0.2   \n",
      "4                5.0               3.6                1.4               0.2   \n",
      "\n",
      "   target  \n",
      "0       0  \n",
      "1       0  \n",
      "2       0  \n",
      "3       0  \n",
      "4       0  \n"
     ]
    }
   ],
   "source": [
    "from sklearn.datasets import load_iris\n",
    "\n",
    "# Carregar o dataset Iris\n",
    "iris = load_iris()\n",
    "\n",
    "# Converter para um DataFrame do pandas\n",
    "iris_df = pd.DataFrame(data=iris.data, columns=iris.feature_names)\n",
    "\n",
    "# Adicionar a coluna de target ao DataFrame iris_df\n",
    "iris_df['target'] = iris.target\n",
    "\n",
    "# Filtrar as primeiras 5 linhas da classe setosa (target == 0)\n",
    "iris_setosa = iris_df[iris_df['target'] == 0].head(5)\n",
    "print(iris_setosa)"
   ]
  },
  {
   "cell_type": "code",
   "execution_count": 5,
   "id": "944d41c4",
   "metadata": {},
   "outputs": [
    {
     "name": "stdout",
     "output_type": "stream",
     "text": [
      "   SepalLength  SepalWidth  PetalLength  PetalWidth\n",
      "0          5.1         NaN          1.4         0.2\n",
      "1          4.9         3.0          1.4         NaN\n",
      "2          4.7         3.2          NaN         0.2\n",
      "3          NaN         3.1          1.5         0.2\n",
      "4          5.0         3.6          NaN         0.2\n"
     ]
    }
   ],
   "source": [
    "# Data with missing data (Dataset Iris, setosa class example)\n",
    "data = [\n",
    "    [5.1, np.nan, 1.4, 0.2],\n",
    "    [4.9, 3.0, 1.4, np.nan],\n",
    "    [4.7, 3.2, np.nan, 0.2],\n",
    "    [np.nan, 3.1, 1.5, 0.2],\n",
    "    [5.0, 3.6, np.nan, 0.2]\n",
    "]\n",
    "\n",
    "# Define the column names\n",
    "columns = [\"SepalLength\", \"SepalWidth\", \"PetalLength\", \"PetalWidth\"]\n",
    "\n",
    "# Create the DataFrame\n",
    "X = pd.DataFrame(data, columns=columns)\n",
    "\n",
    "# Display the DataFrame\n",
    "print(X)"
   ]
  },
  {
   "cell_type": "code",
   "execution_count": 6,
   "id": "2ae93bfc",
   "metadata": {},
   "outputs": [
    {
     "name": "stdout",
     "output_type": "stream",
     "text": [
      "   SepalLength  SepalWidth  PetalLength  PetalWidth\n",
      "0          5.1        -1.0          1.4         0.2\n",
      "1          4.9         3.0          1.4        -1.0\n",
      "2          4.7         3.2         -1.0         0.2\n",
      "3         -1.0         3.1          1.5         0.2\n",
      "4          5.0         3.6         -1.0         0.2\n"
     ]
    }
   ],
   "source": [
    "# Replace NaN values with -1\n",
    "X_linha = X.copy()\n",
    "X_linha.fillna(-1, inplace=True)\n",
    "print(X_linha)"
   ]
  },
  {
   "cell_type": "code",
   "execution_count": 7,
   "id": "b960107b",
   "metadata": {},
   "outputs": [
    {
     "name": "stdout",
     "output_type": "stream",
     "text": [
      "max iterations:  1000\n",
      "epsilon:  1e-256\n"
     ]
    }
   ],
   "source": [
    "# Make class, example: imputer = LPMD(datacomplete, iteracoes=1000, epsilon=1e-256)\n",
    "imputer = LPMD(X_linha, iteracoes=1000, epsilon=1e-256)"
   ]
  },
  {
   "cell_type": "code",
   "execution_count": 8,
   "id": "7c107def",
   "metadata": {},
   "outputs": [
    {
     "name": "stdout",
     "output_type": "stream",
     "text": [
      "Number of clusters:  1\n",
      "Imputed:\n",
      "SepalLength    0\n",
      "SepalWidth     0\n",
      "PetalLength    0\n",
      "PetalWidth     0\n",
      "grupo          0\n",
      "dtype: int64\n",
      "gamma:  0.5\n",
      "42.70000000000001\n",
      "0.0\n",
      "Number of iterations:  2\n"
     ]
    }
   ],
   "source": [
    "# Training model, example: model = imputer.fit(datamissing, target)\n",
    "model = imputer.fit(X, [0, 0, 0, 0, 0])"
   ]
  },
  {
   "cell_type": "code",
   "execution_count": 9,
   "id": "10c2fb53",
   "metadata": {},
   "outputs": [
    {
     "name": "stdout",
     "output_type": "stream",
     "text": [
      "gamma:  0.5\n",
      "89.13888888888889\n",
      "0.0\n",
      "Number of iterations:  2\n"
     ]
    },
    {
     "data": {
      "text/plain": [
       "array([[5.1       , 2.75555556, 1.4       , 0.2       ],\n",
       "       [4.9       , 3.        , 1.4       , 0.06666667],\n",
       "       [4.7       , 3.2       , 0.825     , 0.2       ],\n",
       "       [4.26666667, 3.1       , 1.5       , 0.2       ],\n",
       "       [5.        , 3.6       , 0.825     , 0.2       ]])"
      ]
     },
     "execution_count": 9,
     "metadata": {},
     "output_type": "execute_result"
    }
   ],
   "source": [
    "# Imputing missing values\n",
    "output = model.transform(X.iloc[:, :].values)\n",
    "output"
   ]
  }
 ],
 "metadata": {
  "kernelspec": {
   "display_name": "Python 3",
   "language": "python",
   "name": "python3"
  },
  "language_info": {
   "codemirror_mode": {
    "name": "ipython",
    "version": 3
   },
   "file_extension": ".py",
   "mimetype": "text/x-python",
   "name": "python",
   "nbconvert_exporter": "python",
   "pygments_lexer": "ipython3",
   "version": "3.10.12"
  }
 },
 "nbformat": 4,
 "nbformat_minor": 5
}
